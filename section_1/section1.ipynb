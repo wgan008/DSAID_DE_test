{
 "cells": [
  {
   "cell_type": "code",
   "execution_count": 47,
   "metadata": {
    "collapsed": false
   },
   "outputs": [
    {
     "name": "stdout",
     "output_type": "stream",
     "text": [
      "Raw count is:  name     10000\n",
      "price    10000\n",
      "dtype: int64\n"
     ]
    }
   ],
   "source": [
    "import pandas as pd\n",
    "from datetime import date\n",
    "\n",
    "df = pd.read_csv(\"dataset.csv\")\n",
    "print(\"Raw count is: \",df.count())\n",
    "\n",
    "df = df[(pd.notnull(df[\"name\"])) | (df[\"name\"]!='')]\n",
    "\n",
    "df['first_name'], df['last_name'] = df['name'].str.split(' ', 1).str\n",
    "\n",
    "df[\"aboce_100\"] = df[\"price\"] > 100\n",
    "\n",
    "filename = date.today().strftime('%Y%m%d') + \"_res.csv\"\n",
    "df.to_csv(filename)"
   ]
  },
  {
   "cell_type": "code",
   "execution_count": null,
   "metadata": {
    "collapsed": true
   },
   "outputs": [],
   "source": []
  }
 ],
 "metadata": {
  "kernelspec": {
   "display_name": "Python 3",
   "language": "python",
   "name": "python3"
  },
  "language_info": {
   "codemirror_mode": {
    "name": "ipython",
    "version": 3
   },
   "file_extension": ".py",
   "mimetype": "text/x-python",
   "name": "python",
   "nbconvert_exporter": "python",
   "pygments_lexer": "ipython3",
   "version": "3.6.4"
  }
 },
 "nbformat": 4,
 "nbformat_minor": 2
}
